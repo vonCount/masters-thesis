{
  "nbformat": 4,
  "nbformat_minor": 0,
  "metadata": {
    "colab": {
      "name": "MarCo-Dialog.ipynb",
      "provenance": [],
      "collapsed_sections": []
    },
    "kernelspec": {
      "name": "python3",
      "display_name": "Python 3"
    },
    "language_info": {
      "name": "python"
    },
    "accelerator": "GPU"
  },
  "cells": [
    {
      "cell_type": "code",
      "execution_count": null,
      "metadata": {
        "id": "H0wQZx6SL13e"
      },
      "outputs": [],
      "source": [
        "#Source: https://github.com/InitialBug/MarCo-Dialog\n",
        "\n",
        "\n",
        "!git clone https://github.com/vonCount/MarCo-Dialog.git\n",
        "\n",
        "!pip install -U pip\n",
        "!pip install https://download.pytorch.org/whl/cu100/torch-1.0.1.post2-cp37-cp37m-linux_x86_64.whl\n",
        "!pip install pytorch-pretrained-bert\n"
      ]
    },
    {
      "cell_type": "code",
      "source": [
        "pip install -U nltk"
      ],
      "metadata": {
        "id": "yxm8LD3QsW5z"
      },
      "execution_count": null,
      "outputs": []
    },
    {
      "cell_type": "code",
      "source": [
        "import os\n",
        "os.makedirs(\"/content/MarCo-Dialog/output/\", exist_ok=True)\n",
        "os.makedirs(\"/content/output/\", exist_ok=True)"
      ],
      "metadata": {
        "id": "m0S0scDpsh7I"
      },
      "execution_count": null,
      "outputs": []
    },
    {
      "cell_type": "code",
      "source": [
        "!cd MarCo-Dialog/ && CUDA_VISIBLE_DEVICES=0 python train_generator.py --option train --model model/ --batch_size 384 --max_seq_length 50 --act_source bert"
      ],
      "metadata": {
        "id": "UwJhnLKcMSQR",
        "colab": {
          "base_uri": "https://localhost:8080/"
        },
        "outputId": "57db963b-71b8-4319-cc0f-e08023a8ea88"
      },
      "execution_count": null,
      "outputs": [
        {
          "output_type": "stream",
          "name": "stdout",
          "text": [
            "tcmalloc: large alloc 1261297664 bytes == 0xc5fb6000 @  0x7fb563bff001 0x4a3a4a 0x5a7748 0x5a7a03 0x5122db 0x593dd7 0x5118f8 0x549576 0x604173 0x5f5506 0x5f8c6c 0x5f9206 0x64faf2 0x64fc4e 0x7fb5637fac87 0x5b621a\n",
            "tcmalloc: large alloc 1261297664 bytes == 0x9bce000 @  0x7fb563bff001 0x4a3a4a 0x5a7748 0x5a7a03 0x5122db 0x593dd7 0x5118f8 0x549576 0x604173 0x5f5506 0x5f8c6c 0x5f9206 0x64faf2 0x64fc4e 0x7fb5637fac87 0x5b621a\n",
            "epoch 0 \tstep 0 training \ttotal_loss 8.238163 \tact_loss 8.238163 \tresp_loss 8.242178\n",
            "epoch 0 \tstep 100 training \ttotal_loss 1.250432 \tact_loss 1.250432 \tresp_loss 8.239999\n",
            "epoch 1 \tstep 0 training \ttotal_loss 1.014082 \tact_loss 1.014082 \tresp_loss 8.224050\n",
            "epoch 1 \tstep 100 training \ttotal_loss 0.905683 \tact_loss 0.905683 \tresp_loss 8.210298\n",
            "epoch 2 \tstep 0 training \ttotal_loss 0.941699 \tact_loss 0.941699 \tresp_loss 8.234723\n",
            "epoch 2 \tstep 100 training \ttotal_loss 0.842000 \tact_loss 0.842000 \tresp_loss 8.215201\n",
            "epoch 3 \tstep 0 training \ttotal_loss 0.849554 \tact_loss 0.849554 \tresp_loss 8.217772\n",
            "epoch 3 \tstep 100 training \ttotal_loss 0.825101 \tact_loss 0.825101 \tresp_loss 8.221457\n",
            "epoch 4 \tstep 0 training \ttotal_loss 0.757430 \tact_loss 0.757430 \tresp_loss 8.237615\n",
            "epoch 4 \tstep 100 training \ttotal_loss 0.763125 \tact_loss 0.763125 \tresp_loss 8.245039\n",
            "epoch 5 \tstep 0 training \ttotal_loss 0.795149 \tact_loss 0.795149 \tresp_loss 8.227547\n",
            "epoch 5 \tstep 100 training \ttotal_loss 0.765516 \tact_loss 0.765516 \tresp_loss 8.254941\n",
            "epoch 6 \tstep 0 training \ttotal_loss 0.765132 \tact_loss 0.765132 \tresp_loss 8.228827\n",
            "epoch 6 \tstep 100 training \ttotal_loss 0.720405 \tact_loss 0.720405 \tresp_loss 8.251976\n",
            "epoch 7 \tstep 0 training \ttotal_loss 0.746569 \tact_loss 0.746569 \tresp_loss 8.242249\n",
            "epoch 7 \tstep 100 training \ttotal_loss 0.686147 \tact_loss 0.686147 \tresp_loss 8.248920\n",
            "epoch 8 \tstep 0 training \ttotal_loss 0.708987 \tact_loss 0.708987 \tresp_loss 8.247016\n",
            "epoch 8 \tstep 100 training \ttotal_loss 0.748364 \tact_loss 0.748364 \tresp_loss 8.247240\n",
            "epoch 9 \tstep 0 training \ttotal_loss 0.719713 \tact_loss 0.719713 \tresp_loss 8.273724\n",
            "epoch 9 \tstep 100 training \ttotal_loss 0.725689 \tact_loss 0.725689 \tresp_loss 8.264923\n",
            "epoch 10 \tstep 0 training \ttotal_loss 55.332832 \tact_loss 0.663608 \tresp_loss 8.270915\n",
            "epoch 10 \tstep 100 training \ttotal_loss 6.403147 \tact_loss 0.678693 \tresp_loss 2.442984\n",
            "precision is 0.000000 recall is 0.000000 F1 is 0.000000\n",
            "Corpus Inform Success : 83.00%\n",
            "Corpus Requestable Success : 46.50%\n",
            "10 epoch, Validation BLEU 0.1886, inform 83.00, request 46.50, score 83.61\n",
            "epoch 11 \tstep 0 training \ttotal_loss 3.949679 \tact_loss 0.669064 \tresp_loss 2.162377\n",
            "epoch 11 \tstep 100 training \ttotal_loss 2.059990 \tact_loss 0.686826 \tresp_loss 1.967513\n",
            "epoch 12 \tstep 0 training \ttotal_loss 1.544334 \tact_loss 0.688989 \tresp_loss 1.855735\n",
            "epoch 12 \tstep 100 training \ttotal_loss 1.048606 \tact_loss 0.688709 \tresp_loss 1.775804\n",
            "epoch 13 \tstep 0 training \ttotal_loss 0.879300 \tact_loss 0.669817 \tresp_loss 1.707223\n",
            "epoch 13 \tstep 100 training \ttotal_loss 0.613992 \tact_loss 0.616173 \tresp_loss 1.602165\n",
            "epoch 14 \tstep 0 training \ttotal_loss 0.693062 \tact_loss 0.655364 \tresp_loss 1.631227\n",
            "epoch 14 \tstep 100 training \ttotal_loss 0.675077 \tact_loss 0.653692 \tresp_loss 1.593826\n",
            "epoch 15 \tstep 0 training \ttotal_loss 0.710555 \tact_loss 0.645088 \tresp_loss 1.621025\n",
            "epoch 15 \tstep 100 training \ttotal_loss 0.764275 \tact_loss 0.670933 \tresp_loss 1.510102\n",
            "precision is 0.000000 recall is 0.000000 F1 is 0.000000\n",
            "Corpus Inform Success : 89.60%\n",
            "Corpus Requestable Success : 72.70%\n",
            "15 epoch, Validation BLEU 0.1932, inform 89.60, request 72.70, score 100.47\n",
            "epoch 16 \tstep 0 training \ttotal_loss 0.728184 \tact_loss 0.640015 \tresp_loss 1.479750\n",
            "epoch 16 \tstep 100 training \ttotal_loss 0.900946 \tact_loss 0.654820 \tresp_loss 1.538500\n",
            "epoch 17 \tstep 0 training \ttotal_loss 0.848610 \tact_loss 0.641205 \tresp_loss 1.446371\n",
            "epoch 17 \tstep 100 training \ttotal_loss 0.901861 \tact_loss 0.583575 \tresp_loss 1.459545\n",
            "epoch 18 \tstep 0 training \ttotal_loss 1.032335 \tact_loss 0.651496 \tresp_loss 1.437001\n",
            "epoch 18 \tstep 100 training \ttotal_loss 1.072446 \tact_loss 0.649339 \tresp_loss 1.399359\n",
            "epoch 19 \tstep 0 training \ttotal_loss 1.162484 \tact_loss 0.655985 \tresp_loss 1.419118\n",
            "epoch 19 \tstep 100 training \ttotal_loss 1.166534 \tact_loss 0.621027 \tresp_loss 1.404391\n",
            "epoch 20 \tstep 0 training \ttotal_loss 1.147310 \tact_loss 0.587220 \tresp_loss 1.334737\n",
            "epoch 20 \tstep 100 training \ttotal_loss 1.347306 \tact_loss 0.627166 \tresp_loss 1.405210\n",
            "precision is 0.000000 recall is 0.000000 F1 is 0.000000\n",
            "Corpus Inform Success : 86.00%\n",
            "Corpus Requestable Success : 72.10%\n",
            "20 epoch, Validation BLEU 0.1836, inform 86.00, request 72.10, score 97.41\n",
            "epoch 21 \tstep 0 training \ttotal_loss 1.325102 \tact_loss 0.600729 \tresp_loss 1.316647\n",
            "epoch 21 \tstep 100 training \ttotal_loss 1.392386 \tact_loss 0.606932 \tresp_loss 1.358424\n",
            "epoch 22 \tstep 0 training \ttotal_loss 1.480517 \tact_loss 0.613593 \tresp_loss 1.343090\n",
            "epoch 22 \tstep 100 training \ttotal_loss 1.408033 \tact_loss 0.554701 \tresp_loss 1.266096\n",
            "epoch 23 \tstep 0 training \ttotal_loss 1.556410 \tact_loss 0.607549 \tresp_loss 1.336098\n",
            "epoch 23 \tstep 100 training \ttotal_loss 1.661958 \tact_loss 0.600345 \tresp_loss 1.368673\n",
            "epoch 24 \tstep 0 training \ttotal_loss 1.648128 \tact_loss 0.596723 \tresp_loss 1.281175\n",
            "epoch 24 \tstep 100 training \ttotal_loss 1.756339 \tact_loss 0.609589 \tresp_loss 1.303946\n",
            "epoch 25 \tstep 0 training \ttotal_loss 1.757416 \tact_loss 0.582589 \tresp_loss 1.279977\n",
            "epoch 25 \tstep 100 training \ttotal_loss 1.813858 \tact_loss 0.597351 \tresp_loss 1.302360\n",
            "precision is 0.000000 recall is 0.000000 F1 is 0.000000\n",
            "Corpus Inform Success : 92.90%\n",
            "Corpus Requestable Success : 78.60%\n",
            "25 epoch, Validation BLEU 0.1931, inform 92.90, request 78.60, score 105.06\n",
            "epoch 26 \tstep 0 training \ttotal_loss 1.874413 \tact_loss 0.600016 \tresp_loss 1.290539\n",
            "epoch 26 \tstep 100 training \ttotal_loss 1.903202 \tact_loss 0.559640 \tresp_loss 1.314788\n",
            "epoch 27 \tstep 0 training \ttotal_loss 1.934146 \tact_loss 0.591149 \tresp_loss 1.263516\n",
            "epoch 27 \tstep 100 training \ttotal_loss 1.970715 \tact_loss 0.560268 \tresp_loss 1.286282\n",
            "epoch 28 \tstep 0 training \ttotal_loss 2.082897 \tact_loss 0.597321 \tresp_loss 1.306783\n",
            "epoch 28 \tstep 100 training \ttotal_loss 2.091195 \tact_loss 0.586680 \tresp_loss 1.292737\n",
            "epoch 29 \tstep 0 training \ttotal_loss 2.095677 \tact_loss 0.546066 \tresp_loss 1.259631\n",
            "epoch 29 \tstep 100 training \ttotal_loss 2.168355 \tact_loss 0.567926 \tresp_loss 1.258791\n",
            "epoch 30 \tstep 0 training \ttotal_loss 2.181983 \tact_loss 0.578601 \tresp_loss 1.294349\n",
            "epoch 30 \tstep 100 training \ttotal_loss 2.318757 \tact_loss 0.588329 \tresp_loss 1.305953\n",
            "precision is 0.000000 recall is 0.000000 F1 is 0.000000\n",
            "Corpus Inform Success : 89.60%\n",
            "Corpus Requestable Success : 74.90%\n",
            "30 epoch, Validation BLEU 0.1848, inform 89.60, request 74.90, score 100.73\n",
            "epoch 31 \tstep 0 training \ttotal_loss 2.154353 \tact_loss 0.515547 \tresp_loss 1.259593\n",
            "epoch 31 \tstep 100 training \ttotal_loss 2.331300 \tact_loss 0.574957 \tresp_loss 1.274480\n",
            "epoch 32 \tstep 0 training \ttotal_loss 2.331804 \tact_loss 0.534267 \tresp_loss 1.178753\n",
            "epoch 32 \tstep 100 training \ttotal_loss 2.407368 \tact_loss 0.571145 \tresp_loss 1.266920\n",
            "epoch 33 \tstep 0 training \ttotal_loss 2.419229 \tact_loss 0.578152 \tresp_loss 1.236182\n",
            "epoch 33 \tstep 100 training \ttotal_loss 2.486552 \tact_loss 0.555453 \tresp_loss 1.281000\n",
            "epoch 34 \tstep 0 training \ttotal_loss 2.496788 \tact_loss 0.568497 \tresp_loss 1.193724\n",
            "epoch 34 \tstep 100 training \ttotal_loss 2.501369 \tact_loss 0.533945 \tresp_loss 1.232291\n",
            "epoch 35 \tstep 0 training \ttotal_loss 2.545048 \tact_loss 0.523400 \tresp_loss 1.215938\n",
            "epoch 35 \tstep 100 training \ttotal_loss 2.643318 \tact_loss 0.587535 \tresp_loss 1.223985\n",
            "precision is 0.000000 recall is 0.000000 F1 is 0.000000\n",
            "Corpus Inform Success : 91.80%\n",
            "Corpus Requestable Success : 75.20%\n",
            "35 epoch, Validation BLEU 0.1881, inform 91.80, request 75.20, score 102.31\n",
            "epoch 36 \tstep 0 training \ttotal_loss 2.572178 \tact_loss 0.542235 \tresp_loss 1.207945\n",
            "epoch 36 \tstep 100 training \ttotal_loss 2.728462 \tact_loss 0.562944 \tresp_loss 1.200816\n",
            "epoch 37 \tstep 0 training \ttotal_loss 2.634341 \tact_loss 0.533162 \tresp_loss 1.200751\n",
            "epoch 37 \tstep 100 training \ttotal_loss 2.739624 \tact_loss 0.560630 \tresp_loss 1.171875\n",
            "epoch 38 \tstep 0 training \ttotal_loss 2.732159 \tact_loss 0.513928 \tresp_loss 1.172949\n",
            "epoch 38 \tstep 100 training \ttotal_loss 2.788762 \tact_loss 0.545110 \tresp_loss 1.227822\n",
            "epoch 39 \tstep 0 training \ttotal_loss 2.729124 \tact_loss 0.517907 \tresp_loss 1.213881\n",
            "epoch 39 \tstep 100 training \ttotal_loss 2.916808 \tact_loss 0.560925 \tresp_loss 1.247936\n",
            "epoch 40 \tstep 0 training \ttotal_loss 2.828185 \tact_loss 0.527327 \tresp_loss 1.190356\n",
            "epoch 40 \tstep 100 training \ttotal_loss 2.887945 \tact_loss 0.540709 \tresp_loss 1.194902\n",
            "precision is 0.000000 recall is 0.000000 F1 is 0.000000\n",
            "Corpus Inform Success : 90.40%\n",
            "Corpus Requestable Success : 74.70%\n",
            "40 epoch, Validation BLEU 0.1892, inform 90.40, request 74.70, score 101.47\n",
            "epoch 41 \tstep 0 training \ttotal_loss 2.889157 \tact_loss 0.501447 \tresp_loss 1.211497\n",
            "epoch 41 \tstep 100 training \ttotal_loss 2.999161 \tact_loss 0.561074 \tresp_loss 1.207419\n",
            "epoch 42 \tstep 0 training \ttotal_loss 2.910409 \tact_loss 0.516283 \tresp_loss 1.199453\n",
            "epoch 42 \tstep 100 training \ttotal_loss 3.088486 \tact_loss 0.560543 \tresp_loss 1.211856\n",
            "epoch 43 \tstep 0 training \ttotal_loss 2.953017 \tact_loss 0.500100 \tresp_loss 1.185205\n",
            "epoch 43 \tstep 100 training \ttotal_loss 3.055709 \tact_loss 0.544363 \tresp_loss 1.178598\n",
            "epoch 44 \tstep 0 training \ttotal_loss 3.046791 \tact_loss 0.504159 \tresp_loss 1.127575\n",
            "epoch 44 \tstep 100 training \ttotal_loss 3.133458 \tact_loss 0.534790 \tresp_loss 1.191418\n",
            "epoch 45 \tstep 0 training \ttotal_loss 3.063859 \tact_loss 0.507713 \tresp_loss 1.155412\n",
            "epoch 45 \tstep 100 training \ttotal_loss 3.151937 \tact_loss 0.522317 \tresp_loss 1.178994\n",
            "precision is 0.000000 recall is 0.000000 F1 is 0.000000\n",
            "Corpus Inform Success : 91.60%\n",
            "Corpus Requestable Success : 75.10%\n",
            "45 epoch, Validation BLEU 0.1880, inform 91.60, request 75.10, score 102.15\n",
            "epoch 46 \tstep 0 training \ttotal_loss 3.201463 \tact_loss 0.530223 \tresp_loss 1.189242\n",
            "epoch 46 \tstep 100 training \ttotal_loss 3.123651 \tact_loss 0.491420 \tresp_loss 1.165528\n",
            "epoch 47 \tstep 0 training \ttotal_loss 3.184092 \tact_loss 0.494588 \tresp_loss 1.163439\n",
            "epoch 47 \tstep 100 training \ttotal_loss 3.250607 \tact_loss 0.509601 \tresp_loss 1.201159\n",
            "epoch 48 \tstep 0 training \ttotal_loss 3.211794 \tact_loss 0.505885 \tresp_loss 1.135252\n",
            "epoch 48 \tstep 100 training \ttotal_loss 3.247436 \tact_loss 0.498400 \tresp_loss 1.205535\n",
            "epoch 49 \tstep 0 training \ttotal_loss 3.360332 \tact_loss 0.531953 \tresp_loss 1.198729\n",
            "epoch 49 \tstep 100 training \ttotal_loss 3.305115 \tact_loss 0.513232 \tresp_loss 1.195687\n",
            "epoch 50 \tstep 0 training \ttotal_loss 3.333791 \tact_loss 0.499075 \tresp_loss 1.227134\n",
            "epoch 50 \tstep 100 training \ttotal_loss 3.402534 \tact_loss 0.519916 \tresp_loss 1.169370\n",
            "precision is 0.000000 recall is 0.000000 F1 is 0.000000\n",
            "Corpus Inform Success : 90.80%\n",
            "Corpus Requestable Success : 76.70%\n",
            "50 epoch, Validation BLEU 0.1823, inform 90.80, request 76.70, score 101.98\n"
          ]
        }
      ]
    },
    {
      "cell_type": "code",
      "source": [
        "!cd MarCo-Dialog/ && CUDA_VISIBLE_DEVICES=0 python train_generator.py --option test --model model/MarCo_BERT --batch_size 384 --max_seq_length 50 --act_source bert"
      ],
      "metadata": {
        "id": "9y-ex9zSMTGB",
        "colab": {
          "base_uri": "https://localhost:8080/"
        },
        "outputId": "59fb0daf-4957-4c72-d364-652917a8440b"
      },
      "execution_count": null,
      "outputs": [
        {
          "output_type": "stream",
          "name": "stdout",
          "text": [
            "precision is 0.000000 recall is 0.000000 F1 is 0.000000\n",
            "Corpus Inform Success : 92.30%\n",
            "Corpus Requestable Success : 78.60%\n",
            "Test BLEU 0.2003, inform 92.30, request 78.60, score 105.48\n"
          ]
        }
      ]
    }
  ]
}