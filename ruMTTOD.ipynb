{
  "cells": [
    {
      "cell_type": "code",
      "execution_count": null,
      "metadata": {
        "colab": {
          "base_uri": "https://localhost:8080/"
        },
        "id": "DG_n5B5VB0og",
        "outputId": "073e39da-e533-4335-b55a-2336ab630bd7",
        "scrolled": true
      },
      "outputs": [
        {
          "name": "stdout",
          "output_type": "stream",
          "text": [
            "Cloning into 'MTTOD'...\n",
            "remote: Enumerating objects: 85, done.\u001b[K\n",
            "remote: Counting objects: 100% (85/85), done.\u001b[K\n",
            "remote: Compressing objects: 100% (62/62), done.\u001b[K\n",
            "remote: Total 85 (delta 42), reused 46 (delta 19), pack-reused 0\u001b[K\n",
            "Unpacking objects: 100% (85/85), done.\n",
            "Updated Git hooks.\n",
            "Git LFS initialized.\n",
            "total 34668\n",
            "-rw-r--r-- 1 jovyan jovyan    11350 May 30 10:33 LICENSE\n",
            "-rw-r--r-- 1 jovyan jovyan      635 May 30 10:33 NOTICE\n",
            "-rw-r--r-- 1 jovyan jovyan     3360 May 30 10:33 README.md\n",
            "-rw-r--r-- 1 jovyan jovyan     6107 May 30 10:33 config.py\n",
            "-rwxr-xr-x 1 jovyan jovyan     2067 May 30 10:33 convert.py\n",
            "-rwxr-xr-x 1 jovyan jovyan 35136254 May 30 10:33 data.zip\n",
            "-rwxr-xr-x 1 jovyan jovyan    27602 May 30 10:33 evaluator.py\n",
            "-rw-r--r-- 1 jovyan jovyan     9560 May 30 10:33 external_knowledges.py\n",
            "-rw-r--r-- 1 jovyan jovyan     1615 May 30 10:33 main.py\n",
            "-rw-r--r-- 1 jovyan jovyan     8692 May 30 10:33 model.py\n",
            "-rw-r--r-- 1 jovyan jovyan    27432 May 30 10:33 preprocess.py\n",
            "-rwxr-xr-x 1 jovyan jovyan    33501 May 30 10:33 reader.py\n",
            "-rw-r--r-- 1 jovyan jovyan       82 May 30 10:33 requirements.txt\n",
            "-rw-r--r-- 1 jovyan jovyan    36484 May 30 10:33 runner.py\n",
            "drwxr-xr-x 2 jovyan jovyan     4096 May 30 10:33 utils\n"
          ]
        }
      ],
      "source": [
        "#Source: https://github.com/bepoetree/MTTOD\n",
        "\n",
        "!git clone https://github.com/vonCount/MTTOD.git && cd MTTOD/ && git lfs install && git lfs pull\n",
        "\n",
        "!ls -l MTTOD/"
      ]
    },
    {
      "cell_type": "code",
      "execution_count": null,
      "metadata": {
        "colab": {
          "base_uri": "https://localhost:8080/"
        },
        "id": "SUQV_UIx7ZEd",
        "outputId": "7096e57e-217d-4f9c-9500-0f5c4557bfa2",
        "scrolled": true
      },
      "outputs": [
        {
          "name": "stdout",
          "output_type": "stream",
          "text": [
            "Archive:  MTTOD/data.zip\n",
            "  inflating: ./data/MultiWOZ_2.0/db/bus_db.json  \n",
            "  inflating: ./data/MultiWOZ_2.0/db/value_set.json  \n",
            "  inflating: ./data/MultiWOZ_2.0/db/hospital_db.json  \n",
            "  inflating: ./data/MultiWOZ_2.0/db/restaurant_db.json  \n",
            "  inflating: ./data/MultiWOZ_2.0/db/train_db.json  \n",
            "  inflating: ./data/MultiWOZ_2.0/db/attraction_db.json  \n",
            "  inflating: ./data/MultiWOZ_2.0/db/hotel_db.json  \n",
            "  inflating: ./data/MultiWOZ_2.0/db/police_db.json  \n",
            "  inflating: ./data/MultiWOZ_2.0/db/taxi_db.json  \n",
            "  inflating: ./data/MultiWOZ_2.0/ontology.json  \n",
            "  inflating: ./data/MultiWOZ_2.0/testListFile.json  \n",
            "  inflating: ./data/MultiWOZ_2.0/annotated_user_da_with_span_full.json  \n",
            "  inflating: ./data/MultiWOZ_2.0/valListFile.json  \n",
            "  inflating: ./data/MultiWOZ_2.0/dial_by_domain.json  \n",
            "  inflating: ./data/MultiWOZ_2.0/slot_descriptions.json  \n",
            "  inflating: ./data/MultiWOZ_2.1/db/value_set.json  \n",
            "  inflating: ./data/MultiWOZ_2.1/db/hospital_db.json  \n",
            "  inflating: ./data/MultiWOZ_2.1/db/restaurant_db.json  \n",
            "  inflating: ./data/MultiWOZ_2.1/db/train_db.json  \n",
            "  inflating: ./data/MultiWOZ_2.1/db/attraction_db.json  \n",
            "  inflating: ./data/MultiWOZ_2.1/db/hotel_db.json  \n",
            "  inflating: ./data/MultiWOZ_2.1/db/police_db.json  \n",
            "  inflating: ./data/MultiWOZ_2.1/db/taxi_db.json  \n",
            "  inflating: ./data/MultiWOZ_2.1/ontology.json  \n",
            "  inflating: ./data/MultiWOZ_2.1/valListFile.txt  \n",
            "  inflating: ./data/MultiWOZ_2.1/system_acts.json  \n",
            "  inflating: ./data/MultiWOZ_2.1/README  \n",
            "  inflating: ./data/MultiWOZ_2.1/testListFile.txt  \n",
            "  inflating: ./data/MultiWOZ_2.1/dial_by_domain.json  \n",
            "  inflating: ./data/MultiWOZ_2.1/tokenization.md  \n",
            "  inflating: ./data/MultiWOZ_2.1/slot_descriptions.json  \n",
            "  inflating: ./data/MultiWOZ_2.1/data.json  \n"
          ]
        }
      ],
      "source": [
        "# multiwoz data is packed inside repo in data.zip\n",
        "!unzip MTTOD/data.zip -d ./data"
      ]
    },
    {
      "cell_type": "code",
      "execution_count": null,
      "metadata": {
        "colab": {
          "base_uri": "https://localhost:8080/"
        },
        "id": "9hPDzHBQCOew",
        "outputId": "04381796-e3f7-445c-ee06-56437a67c91c",
        "scrolled": true
      },
      "outputs": [
        {
          "name": "stdout",
          "output_type": "stream",
          "text": [
            "Requirement already satisfied: nltk in /home/user/conda/lib/python3.7/site-packages (from -r MTTOD/requirements.txt (line 1)) (3.6.7)\n",
            "Requirement already satisfied: tqdm in /home/user/conda/lib/python3.7/site-packages (from -r MTTOD/requirements.txt (line 2)) (4.62.3)\n",
            "Requirement already satisfied: spacy in /home/user/conda/lib/python3.7/site-packages (from -r MTTOD/requirements.txt (line 3)) (3.3.0)\n",
            "Requirement already satisfied: numpy in ./.imgenv-gpu-a100-0/lib/python3.7/site-packages (from -r MTTOD/requirements.txt (line 4)) (1.19.5)\n",
            "Collecting torch==1.7.1\n",
            "  Using cached torch-1.7.1-cp37-cp37m-manylinux1_x86_64.whl (776.8 MB)\n",
            "Requirement already satisfied: transformers==4.5.0 in ./.imgenv-gpu-a100-0/lib/python3.7/site-packages (from -r MTTOD/requirements.txt (line 6)) (4.5.0)\n",
            "Requirement already satisfied: tensorboardX in /home/user/conda/lib/python3.7/site-packages (from -r MTTOD/requirements.txt (line 7)) (1.9)\n",
            "Requirement already satisfied: sentencepiece in /home/user/conda/lib/python3.7/site-packages (from -r MTTOD/requirements.txt (line 8)) (0.1.96)\n",
            "Requirement already satisfied: typing-extensions in /home/user/conda/lib/python3.7/site-packages (from torch==1.7.1->-r MTTOD/requirements.txt (line 5)) (3.10.0.2)\n",
            "Requirement already satisfied: filelock in /home/user/conda/lib/python3.7/site-packages (from transformers==4.5.0->-r MTTOD/requirements.txt (line 6)) (3.4.2)\n",
            "Requirement already satisfied: tokenizers<0.11,>=0.10.1 in ./.imgenv-gpu-a100-0/lib/python3.7/site-packages (from transformers==4.5.0->-r MTTOD/requirements.txt (line 6)) (0.10.3)\n",
            "Requirement already satisfied: packaging in /home/user/conda/lib/python3.7/site-packages (from transformers==4.5.0->-r MTTOD/requirements.txt (line 6)) (21.3)\n",
            "Requirement already satisfied: importlib-metadata in /home/user/conda/lib/python3.7/site-packages (from transformers==4.5.0->-r MTTOD/requirements.txt (line 6)) (4.10.1)\n",
            "Requirement already satisfied: regex!=2019.12.17 in /home/user/conda/lib/python3.7/site-packages (from transformers==4.5.0->-r MTTOD/requirements.txt (line 6)) (2022.1.18)\n",
            "Requirement already satisfied: requests in /home/user/conda/lib/python3.7/site-packages (from transformers==4.5.0->-r MTTOD/requirements.txt (line 6)) (2.27.1)\n",
            "Requirement already satisfied: sacremoses in ./.imgenv-gpu-a100-0/lib/python3.7/site-packages (from transformers==4.5.0->-r MTTOD/requirements.txt (line 6)) (0.0.49)\n",
            "Requirement already satisfied: joblib in /home/user/conda/lib/python3.7/site-packages (from nltk->-r MTTOD/requirements.txt (line 1)) (1.1.0)\n",
            "Requirement already satisfied: click in /home/user/conda/lib/python3.7/site-packages (from nltk->-r MTTOD/requirements.txt (line 1)) (8.0.3)\n",
            "Requirement already satisfied: pathy>=0.3.5 in /home/user/conda/lib/python3.7/site-packages (from spacy->-r MTTOD/requirements.txt (line 3)) (0.6.1)\n",
            "Requirement already satisfied: catalogue<2.1.0,>=2.0.6 in /home/user/conda/lib/python3.7/site-packages (from spacy->-r MTTOD/requirements.txt (line 3)) (2.0.7)\n",
            "Requirement already satisfied: langcodes<4.0.0,>=3.2.0 in /home/user/conda/lib/python3.7/site-packages (from spacy->-r MTTOD/requirements.txt (line 3)) (3.3.0)\n",
            "Requirement already satisfied: murmurhash<1.1.0,>=0.28.0 in /home/user/conda/lib/python3.7/site-packages (from spacy->-r MTTOD/requirements.txt (line 3)) (1.0.7)\n",
            "Requirement already satisfied: thinc<8.1.0,>=8.0.14 in /home/user/conda/lib/python3.7/site-packages (from spacy->-r MTTOD/requirements.txt (line 3)) (8.0.15)\n",
            "Requirement already satisfied: pydantic!=1.8,!=1.8.1,<1.9.0,>=1.7.4 in /home/user/conda/lib/python3.7/site-packages (from spacy->-r MTTOD/requirements.txt (line 3)) (1.8.2)\n",
            "Requirement already satisfied: spacy-loggers<2.0.0,>=1.0.0 in /home/user/conda/lib/python3.7/site-packages (from spacy->-r MTTOD/requirements.txt (line 3)) (1.0.2)\n",
            "Requirement already satisfied: setuptools in ./.imgenv-gpu-a100-0/lib/python3.7/site-packages (from spacy->-r MTTOD/requirements.txt (line 3)) (60.5.0)\n",
            "Requirement already satisfied: spacy-legacy<3.1.0,>=3.0.9 in /home/user/conda/lib/python3.7/site-packages (from spacy->-r MTTOD/requirements.txt (line 3)) (3.0.9)\n",
            "Requirement already satisfied: blis<0.8.0,>=0.4.0 in /home/user/conda/lib/python3.7/site-packages (from spacy->-r MTTOD/requirements.txt (line 3)) (0.7.7)\n",
            "Requirement already satisfied: wasabi<1.1.0,>=0.9.1 in /home/user/conda/lib/python3.7/site-packages (from spacy->-r MTTOD/requirements.txt (line 3)) (0.9.1)\n",
            "Requirement already satisfied: jinja2 in /home/user/conda/lib/python3.7/site-packages (from spacy->-r MTTOD/requirements.txt (line 3)) (3.0.3)\n",
            "Requirement already satisfied: srsly<3.0.0,>=2.4.3 in /home/user/conda/lib/python3.7/site-packages (from spacy->-r MTTOD/requirements.txt (line 3)) (2.4.3)\n",
            "Requirement already satisfied: preshed<3.1.0,>=3.0.2 in /home/user/conda/lib/python3.7/site-packages (from spacy->-r MTTOD/requirements.txt (line 3)) (3.0.6)\n",
            "Requirement already satisfied: typer<0.5.0,>=0.3.0 in /home/user/conda/lib/python3.7/site-packages (from spacy->-r MTTOD/requirements.txt (line 3)) (0.4.0)\n",
            "Requirement already satisfied: cymem<2.1.0,>=2.0.2 in /home/user/conda/lib/python3.7/site-packages (from spacy->-r MTTOD/requirements.txt (line 3)) (2.0.6)\n",
            "Requirement already satisfied: protobuf>=3.8.0 in /home/user/conda/lib/python3.7/site-packages (from tensorboardX->-r MTTOD/requirements.txt (line 7)) (3.19.3)\n",
            "Requirement already satisfied: six in /home/user/conda/lib/python3.7/site-packages (from tensorboardX->-r MTTOD/requirements.txt (line 7)) (1.16.0)\n",
            "Requirement already satisfied: zipp>=0.5 in /home/user/conda/lib/python3.7/site-packages (from catalogue<2.1.0,>=2.0.6->spacy->-r MTTOD/requirements.txt (line 3)) (3.7.0)\n",
            "Requirement already satisfied: pyparsing!=3.0.5,>=2.0.2 in /home/user/conda/lib/python3.7/site-packages (from packaging->transformers==4.5.0->-r MTTOD/requirements.txt (line 6)) (3.0.7)\n",
            "Requirement already satisfied: smart-open<6.0.0,>=5.0.0 in /home/user/conda/lib/python3.7/site-packages (from pathy>=0.3.5->spacy->-r MTTOD/requirements.txt (line 3)) (5.2.1)\n",
            "Requirement already satisfied: charset-normalizer~=2.0.0 in /home/user/conda/lib/python3.7/site-packages (from requests->transformers==4.5.0->-r MTTOD/requirements.txt (line 6)) (2.0.10)\n",
            "Requirement already satisfied: idna<4,>=2.5 in /home/user/conda/lib/python3.7/site-packages (from requests->transformers==4.5.0->-r MTTOD/requirements.txt (line 6)) (3.3)\n",
            "Requirement already satisfied: urllib3<1.27,>=1.21.1 in /home/user/conda/lib/python3.7/site-packages (from requests->transformers==4.5.0->-r MTTOD/requirements.txt (line 6)) (1.26.8)\n",
            "Requirement already satisfied: certifi>=2017.4.17 in /home/user/conda/lib/python3.7/site-packages (from requests->transformers==4.5.0->-r MTTOD/requirements.txt (line 6)) (2021.10.8)\n",
            "Requirement already satisfied: MarkupSafe>=2.0 in /home/user/conda/lib/python3.7/site-packages (from jinja2->spacy->-r MTTOD/requirements.txt (line 3)) (2.0.1)\n",
            "Installing collected packages: torch\n",
            "  Attempting uninstall: torch\n",
            "    Found existing installation: torch 1.0.1.post2\n",
            "    Uninstalling torch-1.0.1.post2:\n",
            "      Successfully uninstalled torch-1.0.1.post2\n",
            "\u001b[31mERROR: pip's dependency resolver does not currently take into account all the packages that are installed. This behaviour is the source of the following dependency conflicts.\n",
            "torchvision 0.11.2+cu111 requires torch==1.10.1, but you have torch 1.7.1 which is incompatible.\n",
            "torchaudio 0.10.1+rocm4.1 requires torch==1.10.1, but you have torch 1.7.1 which is incompatible.\n",
            "pykeen 1.8.1 requires torch>=1.10; platform_system != \"Windows\", but you have torch 1.7.1 which is incompatible.\u001b[0m\u001b[31m\n",
            "\u001b[0mSuccessfully installed torch-1.7.1\n",
            "Collecting en-core-web-sm==3.3.0\n",
            "  Downloading https://github.com/explosion/spacy-models/releases/download/en_core_web_sm-3.3.0/en_core_web_sm-3.3.0-py3-none-any.whl (12.8 MB)\n",
            "\u001b[2K     \u001b[90m━━━━━━━━━━━━━━━━━━━━━━━━━━━━━━━━━━━━━━━━\u001b[0m \u001b[32m12.8/12.8 MB\u001b[0m \u001b[31m55.9 MB/s\u001b[0m eta \u001b[36m0:00:00\u001b[0m00:01\u001b[0m00:01\u001b[0m\n",
            "\u001b[?25hRequirement already satisfied: spacy<3.4.0,>=3.3.0.dev0 in /home/user/conda/lib/python3.7/site-packages (from en-core-web-sm==3.3.0) (3.3.0)\n",
            "Requirement already satisfied: thinc<8.1.0,>=8.0.14 in /home/user/conda/lib/python3.7/site-packages (from spacy<3.4.0,>=3.3.0.dev0->en-core-web-sm==3.3.0) (8.0.15)\n",
            "Requirement already satisfied: jinja2 in /home/user/conda/lib/python3.7/site-packages (from spacy<3.4.0,>=3.3.0.dev0->en-core-web-sm==3.3.0) (3.0.3)\n",
            "Requirement already satisfied: typing-extensions<4.0.0.0,>=3.7.4 in /home/user/conda/lib/python3.7/site-packages (from spacy<3.4.0,>=3.3.0.dev0->en-core-web-sm==3.3.0) (3.10.0.2)\n",
            "Requirement already satisfied: langcodes<4.0.0,>=3.2.0 in /home/user/conda/lib/python3.7/site-packages (from spacy<3.4.0,>=3.3.0.dev0->en-core-web-sm==3.3.0) (3.3.0)\n",
            "Requirement already satisfied: murmurhash<1.1.0,>=0.28.0 in /home/user/conda/lib/python3.7/site-packages (from spacy<3.4.0,>=3.3.0.dev0->en-core-web-sm==3.3.0) (1.0.7)\n",
            "Requirement already satisfied: catalogue<2.1.0,>=2.0.6 in /home/user/conda/lib/python3.7/site-packages (from spacy<3.4.0,>=3.3.0.dev0->en-core-web-sm==3.3.0) (2.0.7)\n",
            "Requirement already satisfied: spacy-loggers<2.0.0,>=1.0.0 in /home/user/conda/lib/python3.7/site-packages (from spacy<3.4.0,>=3.3.0.dev0->en-core-web-sm==3.3.0) (1.0.2)\n",
            "Requirement already satisfied: blis<0.8.0,>=0.4.0 in /home/user/conda/lib/python3.7/site-packages (from spacy<3.4.0,>=3.3.0.dev0->en-core-web-sm==3.3.0) (0.7.7)\n",
            "Requirement already satisfied: pydantic!=1.8,!=1.8.1,<1.9.0,>=1.7.4 in /home/user/conda/lib/python3.7/site-packages (from spacy<3.4.0,>=3.3.0.dev0->en-core-web-sm==3.3.0) (1.8.2)\n",
            "Requirement already satisfied: numpy>=1.15.0 in ./.imgenv-gpu-a100-0/lib/python3.7/site-packages (from spacy<3.4.0,>=3.3.0.dev0->en-core-web-sm==3.3.0) (1.19.5)\n",
            "Requirement already satisfied: pathy>=0.3.5 in /home/user/conda/lib/python3.7/site-packages (from spacy<3.4.0,>=3.3.0.dev0->en-core-web-sm==3.3.0) (0.6.1)\n",
            "Requirement already satisfied: setuptools in ./.imgenv-gpu-a100-0/lib/python3.7/site-packages (from spacy<3.4.0,>=3.3.0.dev0->en-core-web-sm==3.3.0) (60.5.0)\n",
            "Requirement already satisfied: spacy-legacy<3.1.0,>=3.0.9 in /home/user/conda/lib/python3.7/site-packages (from spacy<3.4.0,>=3.3.0.dev0->en-core-web-sm==3.3.0) (3.0.9)\n",
            "Requirement already satisfied: requests<3.0.0,>=2.13.0 in /home/user/conda/lib/python3.7/site-packages (from spacy<3.4.0,>=3.3.0.dev0->en-core-web-sm==3.3.0) (2.27.1)\n",
            "Requirement already satisfied: srsly<3.0.0,>=2.4.3 in /home/user/conda/lib/python3.7/site-packages (from spacy<3.4.0,>=3.3.0.dev0->en-core-web-sm==3.3.0) (2.4.3)\n",
            "Requirement already satisfied: tqdm<5.0.0,>=4.38.0 in /home/user/conda/lib/python3.7/site-packages (from spacy<3.4.0,>=3.3.0.dev0->en-core-web-sm==3.3.0) (4.62.3)\n",
            "Requirement already satisfied: packaging>=20.0 in /home/user/conda/lib/python3.7/site-packages (from spacy<3.4.0,>=3.3.0.dev0->en-core-web-sm==3.3.0) (21.3)\n",
            "Requirement already satisfied: cymem<2.1.0,>=2.0.2 in /home/user/conda/lib/python3.7/site-packages (from spacy<3.4.0,>=3.3.0.dev0->en-core-web-sm==3.3.0) (2.0.6)\n",
            "Requirement already satisfied: wasabi<1.1.0,>=0.9.1 in /home/user/conda/lib/python3.7/site-packages (from spacy<3.4.0,>=3.3.0.dev0->en-core-web-sm==3.3.0) (0.9.1)\n",
            "Requirement already satisfied: preshed<3.1.0,>=3.0.2 in /home/user/conda/lib/python3.7/site-packages (from spacy<3.4.0,>=3.3.0.dev0->en-core-web-sm==3.3.0) (3.0.6)\n",
            "Requirement already satisfied: typer<0.5.0,>=0.3.0 in /home/user/conda/lib/python3.7/site-packages (from spacy<3.4.0,>=3.3.0.dev0->en-core-web-sm==3.3.0) (0.4.0)\n",
            "Requirement already satisfied: zipp>=0.5 in /home/user/conda/lib/python3.7/site-packages (from catalogue<2.1.0,>=2.0.6->spacy<3.4.0,>=3.3.0.dev0->en-core-web-sm==3.3.0) (3.7.0)\n",
            "Requirement already satisfied: pyparsing!=3.0.5,>=2.0.2 in /home/user/conda/lib/python3.7/site-packages (from packaging>=20.0->spacy<3.4.0,>=3.3.0.dev0->en-core-web-sm==3.3.0) (3.0.7)\n",
            "Requirement already satisfied: smart-open<6.0.0,>=5.0.0 in /home/user/conda/lib/python3.7/site-packages (from pathy>=0.3.5->spacy<3.4.0,>=3.3.0.dev0->en-core-web-sm==3.3.0) (5.2.1)\n",
            "Requirement already satisfied: idna<4,>=2.5 in /home/user/conda/lib/python3.7/site-packages (from requests<3.0.0,>=2.13.0->spacy<3.4.0,>=3.3.0.dev0->en-core-web-sm==3.3.0) (3.3)\n",
            "Requirement already satisfied: certifi>=2017.4.17 in /home/user/conda/lib/python3.7/site-packages (from requests<3.0.0,>=2.13.0->spacy<3.4.0,>=3.3.0.dev0->en-core-web-sm==3.3.0) (2021.10.8)\n",
            "Requirement already satisfied: charset-normalizer~=2.0.0 in /home/user/conda/lib/python3.7/site-packages (from requests<3.0.0,>=2.13.0->spacy<3.4.0,>=3.3.0.dev0->en-core-web-sm==3.3.0) (2.0.10)\n",
            "Requirement already satisfied: urllib3<1.27,>=1.21.1 in /home/user/conda/lib/python3.7/site-packages (from requests<3.0.0,>=2.13.0->spacy<3.4.0,>=3.3.0.dev0->en-core-web-sm==3.3.0) (1.26.8)\n",
            "Requirement already satisfied: click<9.0.0,>=7.1.1 in /home/user/conda/lib/python3.7/site-packages (from typer<0.5.0,>=0.3.0->spacy<3.4.0,>=3.3.0.dev0->en-core-web-sm==3.3.0) (8.0.3)\n",
            "Requirement already satisfied: MarkupSafe>=2.0 in /home/user/conda/lib/python3.7/site-packages (from jinja2->spacy<3.4.0,>=3.3.0.dev0->en-core-web-sm==3.3.0) (2.0.1)\n",
            "Requirement already satisfied: importlib-metadata in /home/user/conda/lib/python3.7/site-packages (from click<9.0.0,>=7.1.1->typer<0.5.0,>=0.3.0->spacy<3.4.0,>=3.3.0.dev0->en-core-web-sm==3.3.0) (4.10.1)\n",
            "\u001b[38;5;2m✔ Download and installation successful\u001b[0m\n",
            "You can now load the package via spacy.load('en_core_web_sm')\n"
          ]
        }
      ],
      "source": [
        "!pip install -r MTTOD/requirements.txt\n",
        "!python -m spacy download en_core_web_sm"
      ]
    },
    {
      "cell_type": "code",
      "execution_count": null,
      "metadata": {
        "id": "i0vTRZBGxZGs"
      },
      "outputs": [],
      "source": [
        "import os\n",
        "os.environ['VERSION'] = '2.1'\n",
        "os.environ['MODEL_DIR'] = './MTTOD/models/'\n",
        "os.environ['CHECKPOINT'] = './MTTOD/models/ckpt-epoch1'\n",
        "os.environ['MODEL_OUTPUT'] = 'preds.json'\n",
        "os.environ['BATCH_SIZE'] = '4'"
      ]
    },
    {
      "cell_type": "code",
      "execution_count": null,
      "metadata": {
        "colab": {
          "base_uri": "https://localhost:8080/"
        },
        "id": "wURGJralCxAZ",
        "outputId": "cfa8502e-851e-4c52-b89e-660ffd31e07b"
      },
      "outputs": [
        {
          "name": "stdout",
          "output_type": "stream",
          "text": [
            "DB value set processed !\n",
            "[attraction] DB processed !\n",
            "[hotel] DB processed !\n",
            "[restaurant] DB processed !\n",
            "[taxi] DB processed !\n",
            "[train] DB processed !\n",
            "[hospital] DB processed !\n",
            "[police] DB processed !\n",
            "Processing entity values in [attraction]\n",
            "Processing entity values in [hotel]\n",
            "Processing entity values in [restaurant]\n",
            "Processing entity values in [taxi]\n",
            "Processing entity values in [train]\n",
            "Processing entity values in [hospital]\n",
            "Processing entity values in [police]\n",
            "single delex value dict saved!\n",
            "multi delex value dict saved!\n",
            "ambiguous value dict saved!\n",
            "100%|█████████████████████████████████████| 10438/10438 [15:14<00:00, 11.42it/s]\n",
            "Save preprocessed data to data/MultiWOZ_2.1/processed (#train: 8434, #dev: 999, #test: 1000)\n"
          ]
        }
      ],
      "source": [
        "!python MTTOD/preprocess.py -version=$VERSION"
      ]
    },
    {
      "cell_type": "code",
      "execution_count": null,
      "metadata": {
        "id": "Monk3DPAdYMC"
      },
      "outputs": [],
      "source": [
        "# pip install torch==1.10.1+cu111 torchvision==0.11.2+cu111 torchaudio==0.10.1 -f https://download.pytorch.org/whl/torch_stable.html"
      ]
    },
    {
      "cell_type": "code",
      "execution_count": null,
      "metadata": {
        "id": "ce5O2kArCiGg"
      },
      "outputs": [],
      "source": [
        "!mkdir MTTOD/models"
      ]
    },
    {
      "cell_type": "code",
      "execution_count": null,
      "metadata": {
        "colab": {
          "base_uri": "https://localhost:8080/"
        },
        "id": "lDQD2IaODCqp",
        "outputId": "74c19d31-ebb2-4e69-b43d-340a86971964",
        "scrolled": true
      },
      "outputs": [
        {
          "name": "stdout",
          "output_type": "stream",
          "text": [
            "05/30/2022 12:41:09  [INFO] Device: cuda (the number of GPUs: 1)\n",
            "05/30/2022 12:41:09  [INFO] Set random seed to 42\n",
            "05/30/2022 12:41:12  [INFO] Load encoded data from data/MultiWOZ_2.1/processed/encoded_data.pkl\n",
            "05/30/2022 12:41:13  [INFO] Load model from t5-base\n",
            "Some weights of T5WithSpan were not initialized from the model checkpoint at t5-base and are newly initialized: ['resp_decoder.block.0.layer.0.SelfAttention.q.weight', 'resp_decoder.block.0.layer.0.SelfAttention.k.weight', 'resp_decoder.block.0.layer.0.SelfAttention.v.weight', 'resp_decoder.block.0.layer.0.SelfAttention.o.weight', 'resp_decoder.block.0.layer.0.SelfAttention.relative_attention_bias.weight', 'resp_decoder.block.0.layer.0.layer_norm.weight', 'resp_decoder.block.0.layer.1.EncDecAttention.q.weight', 'resp_decoder.block.0.layer.1.EncDecAttention.k.weight', 'resp_decoder.block.0.layer.1.EncDecAttention.v.weight', 'resp_decoder.block.0.layer.1.EncDecAttention.o.weight', 'resp_decoder.block.0.layer.1.layer_norm.weight', 'resp_decoder.block.0.layer.2.DenseReluDense.wi.weight', 'resp_decoder.block.0.layer.2.DenseReluDense.wo.weight', 'resp_decoder.block.0.layer.2.layer_norm.weight', 'resp_decoder.block.1.layer.0.SelfAttention.q.weight', 'resp_decoder.block.1.layer.0.SelfAttention.k.weight', 'resp_decoder.block.1.layer.0.SelfAttention.v.weight', 'resp_decoder.block.1.layer.0.SelfAttention.o.weight', 'resp_decoder.block.1.layer.0.layer_norm.weight', 'resp_decoder.block.1.layer.1.EncDecAttention.q.weight', 'resp_decoder.block.1.layer.1.EncDecAttention.k.weight', 'resp_decoder.block.1.layer.1.EncDecAttention.v.weight', 'resp_decoder.block.1.layer.1.EncDecAttention.o.weight', 'resp_decoder.block.1.layer.1.layer_norm.weight', 'resp_decoder.block.1.layer.2.DenseReluDense.wi.weight', 'resp_decoder.block.1.layer.2.DenseReluDense.wo.weight', 'resp_decoder.block.1.layer.2.layer_norm.weight', 'resp_decoder.block.2.layer.0.SelfAttention.q.weight', 'resp_decoder.block.2.layer.0.SelfAttention.k.weight', 'resp_decoder.block.2.layer.0.SelfAttention.v.weight', 'resp_decoder.block.2.layer.0.SelfAttention.o.weight', 'resp_decoder.block.2.layer.0.layer_norm.weight', 'resp_decoder.block.2.layer.1.EncDecAttention.q.weight', 'resp_decoder.block.2.layer.1.EncDecAttention.k.weight', 'resp_decoder.block.2.layer.1.EncDecAttention.v.weight', 'resp_decoder.block.2.layer.1.EncDecAttention.o.weight', 'resp_decoder.block.2.layer.1.layer_norm.weight', 'resp_decoder.block.2.layer.2.DenseReluDense.wi.weight', 'resp_decoder.block.2.layer.2.DenseReluDense.wo.weight', 'resp_decoder.block.2.layer.2.layer_norm.weight', 'resp_decoder.block.3.layer.0.SelfAttention.q.weight', 'resp_decoder.block.3.layer.0.SelfAttention.k.weight', 'resp_decoder.block.3.layer.0.SelfAttention.v.weight', 'resp_decoder.block.3.layer.0.SelfAttention.o.weight', 'resp_decoder.block.3.layer.0.layer_norm.weight', 'resp_decoder.block.3.layer.1.EncDecAttention.q.weight', 'resp_decoder.block.3.layer.1.EncDecAttention.k.weight', 'resp_decoder.block.3.layer.1.EncDecAttention.v.weight', 'resp_decoder.block.3.layer.1.EncDecAttention.o.weight', 'resp_decoder.block.3.layer.1.layer_norm.weight', 'resp_decoder.block.3.layer.2.DenseReluDense.wi.weight', 'resp_decoder.block.3.layer.2.DenseReluDense.wo.weight', 'resp_decoder.block.3.layer.2.layer_norm.weight', 'resp_decoder.block.4.layer.0.SelfAttention.q.weight', 'resp_decoder.block.4.layer.0.SelfAttention.k.weight', 'resp_decoder.block.4.layer.0.SelfAttention.v.weight', 'resp_decoder.block.4.layer.0.SelfAttention.o.weight', 'resp_decoder.block.4.layer.0.layer_norm.weight', 'resp_decoder.block.4.layer.1.EncDecAttention.q.weight', 'resp_decoder.block.4.layer.1.EncDecAttention.k.weight', 'resp_decoder.block.4.layer.1.EncDecAttention.v.weight', 'resp_decoder.block.4.layer.1.EncDecAttention.o.weight', 'resp_decoder.block.4.layer.1.layer_norm.weight', 'resp_decoder.block.4.layer.2.DenseReluDense.wi.weight', 'resp_decoder.block.4.layer.2.DenseReluDense.wo.weight', 'resp_decoder.block.4.layer.2.layer_norm.weight', 'resp_decoder.block.5.layer.0.SelfAttention.q.weight', 'resp_decoder.block.5.layer.0.SelfAttention.k.weight', 'resp_decoder.block.5.layer.0.SelfAttention.v.weight', 'resp_decoder.block.5.layer.0.SelfAttention.o.weight', 'resp_decoder.block.5.layer.0.layer_norm.weight', 'resp_decoder.block.5.layer.1.EncDecAttention.q.weight', 'resp_decoder.block.5.layer.1.EncDecAttention.k.weight', 'resp_decoder.block.5.layer.1.EncDecAttention.v.weight', 'resp_decoder.block.5.layer.1.EncDecAttention.o.weight', 'resp_decoder.block.5.layer.1.layer_norm.weight', 'resp_decoder.block.5.layer.2.DenseReluDense.wi.weight', 'resp_decoder.block.5.layer.2.DenseReluDense.wo.weight', 'resp_decoder.block.5.layer.2.layer_norm.weight', 'resp_decoder.block.6.layer.0.SelfAttention.q.weight', 'resp_decoder.block.6.layer.0.SelfAttention.k.weight', 'resp_decoder.block.6.layer.0.SelfAttention.v.weight', 'resp_decoder.block.6.layer.0.SelfAttention.o.weight', 'resp_decoder.block.6.layer.0.layer_norm.weight', 'resp_decoder.block.6.layer.1.EncDecAttention.q.weight', 'resp_decoder.block.6.layer.1.EncDecAttention.k.weight', 'resp_decoder.block.6.layer.1.EncDecAttention.v.weight', 'resp_decoder.block.6.layer.1.EncDecAttention.o.weight', 'resp_decoder.block.6.layer.1.layer_norm.weight', 'resp_decoder.block.6.layer.2.DenseReluDense.wi.weight', 'resp_decoder.block.6.layer.2.DenseReluDense.wo.weight', 'resp_decoder.block.6.layer.2.layer_norm.weight', 'resp_decoder.block.7.layer.0.SelfAttention.q.weight', 'resp_decoder.block.7.layer.0.SelfAttention.k.weight', 'resp_decoder.block.7.layer.0.SelfAttention.v.weight', 'resp_decoder.block.7.layer.0.SelfAttention.o.weight', 'resp_decoder.block.7.layer.0.layer_norm.weight', 'resp_decoder.block.7.layer.1.EncDecAttention.q.weight', 'resp_decoder.block.7.layer.1.EncDecAttention.k.weight', 'resp_decoder.block.7.layer.1.EncDecAttention.v.weight', 'resp_decoder.block.7.layer.1.EncDecAttention.o.weight', 'resp_decoder.block.7.layer.1.layer_norm.weight', 'resp_decoder.block.7.layer.2.DenseReluDense.wi.weight', 'resp_decoder.block.7.layer.2.DenseReluDense.wo.weight', 'resp_decoder.block.7.layer.2.layer_norm.weight', 'resp_decoder.block.8.layer.0.SelfAttention.q.weight', 'resp_decoder.block.8.layer.0.SelfAttention.k.weight', 'resp_decoder.block.8.layer.0.SelfAttention.v.weight', 'resp_decoder.block.8.layer.0.SelfAttention.o.weight', 'resp_decoder.block.8.layer.0.layer_norm.weight', 'resp_decoder.block.8.layer.1.EncDecAttention.q.weight', 'resp_decoder.block.8.layer.1.EncDecAttention.k.weight', 'resp_decoder.block.8.layer.1.EncDecAttention.v.weight', 'resp_decoder.block.8.layer.1.EncDecAttention.o.weight', 'resp_decoder.block.8.layer.1.layer_norm.weight', 'resp_decoder.block.8.layer.2.DenseReluDense.wi.weight', 'resp_decoder.block.8.layer.2.DenseReluDense.wo.weight', 'resp_decoder.block.8.layer.2.layer_norm.weight', 'resp_decoder.block.9.layer.0.SelfAttention.q.weight', 'resp_decoder.block.9.layer.0.SelfAttention.k.weight', 'resp_decoder.block.9.layer.0.SelfAttention.v.weight', 'resp_decoder.block.9.layer.0.SelfAttention.o.weight', 'resp_decoder.block.9.layer.0.layer_norm.weight', 'resp_decoder.block.9.layer.1.EncDecAttention.q.weight', 'resp_decoder.block.9.layer.1.EncDecAttention.k.weight', 'resp_decoder.block.9.layer.1.EncDecAttention.v.weight', 'resp_decoder.block.9.layer.1.EncDecAttention.o.weight', 'resp_decoder.block.9.layer.1.layer_norm.weight', 'resp_decoder.block.9.layer.2.DenseReluDense.wi.weight', 'resp_decoder.block.9.layer.2.DenseReluDense.wo.weight', 'resp_decoder.block.9.layer.2.layer_norm.weight', 'resp_decoder.block.10.layer.0.SelfAttention.q.weight', 'resp_decoder.block.10.layer.0.SelfAttention.k.weight', 'resp_decoder.block.10.layer.0.SelfAttention.v.weight', 'resp_decoder.block.10.layer.0.SelfAttention.o.weight', 'resp_decoder.block.10.layer.0.layer_norm.weight', 'resp_decoder.block.10.layer.1.EncDecAttention.q.weight', 'resp_decoder.block.10.layer.1.EncDecAttention.k.weight', 'resp_decoder.block.10.layer.1.EncDecAttention.v.weight', 'resp_decoder.block.10.layer.1.EncDecAttention.o.weight', 'resp_decoder.block.10.layer.1.layer_norm.weight', 'resp_decoder.block.10.layer.2.DenseReluDense.wi.weight', 'resp_decoder.block.10.layer.2.DenseReluDense.wo.weight', 'resp_decoder.block.10.layer.2.layer_norm.weight', 'resp_decoder.block.11.layer.0.SelfAttention.q.weight', 'resp_decoder.block.11.layer.0.SelfAttention.k.weight', 'resp_decoder.block.11.layer.0.SelfAttention.v.weight', 'resp_decoder.block.11.layer.0.SelfAttention.o.weight', 'resp_decoder.block.11.layer.0.layer_norm.weight', 'resp_decoder.block.11.layer.1.EncDecAttention.q.weight', 'resp_decoder.block.11.layer.1.EncDecAttention.k.weight', 'resp_decoder.block.11.layer.1.EncDecAttention.v.weight', 'resp_decoder.block.11.layer.1.EncDecAttention.o.weight', 'resp_decoder.block.11.layer.1.layer_norm.weight', 'resp_decoder.block.11.layer.2.DenseReluDense.wi.weight', 'resp_decoder.block.11.layer.2.DenseReluDense.wo.weight', 'resp_decoder.block.11.layer.2.layer_norm.weight', 'resp_decoder.final_layer_norm.weight']\n",
            "You should probably TRAIN this model on a down-stream task to be able to use it for predictions and inference.\n",
            "05/30/2022 12:41:25  [INFO] Total training steps = 1771, warmup steps = 354\n",
            "05/30/2022 12:41:57  [INFO] step 100; step-time 0.31s; lr 1.41e-04; [belief] loss 1260.33; ppl 1.02; acc 33.90 [resp] loss 617.00; ppl 1.01; acc 19.15 \n",
            "05/30/2022 12:42:29  [INFO] step 200; step-time 0.31s; lr 2.82e-04; [belief] loss 548.81; ppl 1.01; acc 62.89 [resp] loss 297.69; ppl 1.00; acc 49.12 \n",
            "05/30/2022 12:42:58  [INFO] step 300; step-time 0.29s; lr 4.24e-04; [belief] loss 382.92; ppl 1.01; acc 73.50 [resp] loss 217.48; ppl 1.00; acc 56.99 \n",
            "05/30/2022 12:43:26  [INFO] step 400; step-time 0.28s; lr 4.84e-04; [belief] loss 308.07; ppl 1.00; acc 80.22 [resp] loss 188.61; ppl 1.00; acc 59.77 \n",
            "05/30/2022 12:43:55  [INFO] step 500; step-time 0.29s; lr 4.48e-04; [belief] loss 257.23; ppl 1.00; acc 85.80 [resp] loss 174.42; ppl 1.00; acc 61.32 \n",
            "05/30/2022 12:44:25  [INFO] step 600; step-time 0.29s; lr 4.13e-04; [belief] loss 220.40; ppl 1.00; acc 90.29 [resp] loss 159.20; ppl 1.00; acc 63.71 \n",
            "05/30/2022 12:44:52  [INFO] step 700; step-time 0.27s; lr 3.78e-04; [belief] loss 192.93; ppl 1.00; acc 93.79 [resp] loss 147.01; ppl 1.00; acc 65.36 \n",
            "05/30/2022 12:45:21  [INFO] step 800; step-time 0.29s; lr 3.43e-04; [belief] loss 180.20; ppl 1.00; acc 94.94 [resp] loss 142.91; ppl 1.00; acc 65.91 \n",
            "05/30/2022 12:45:51  [INFO] step 900; step-time 0.30s; lr 3.07e-04; [belief] loss 166.73; ppl 1.00; acc 96.07 [resp] loss 137.39; ppl 1.00; acc 67.19 \n",
            "05/30/2022 12:46:21  [INFO] step 1000; step-time 0.30s; lr 2.72e-04; [belief] loss 164.12; ppl 1.00; acc 96.34 [resp] loss 136.97; ppl 1.00; acc 67.47 \n",
            "05/30/2022 12:46:49  [INFO] step 1100; step-time 0.27s; lr 2.37e-04; [belief] loss 153.86; ppl 1.00; acc 96.74 [resp] loss 129.07; ppl 1.00; acc 69.27 \n",
            "05/30/2022 12:47:17  [INFO] step 1200; step-time 0.28s; lr 2.01e-04; [belief] loss 147.65; ppl 1.00; acc 96.92 [resp] loss 125.85; ppl 1.00; acc 69.84 \n",
            "05/30/2022 12:47:45  [INFO] step 1300; step-time 0.28s; lr 1.66e-04; [belief] loss 142.41; ppl 1.00; acc 97.11 [resp] loss 122.58; ppl 1.00; acc 70.50 \n",
            "05/30/2022 12:48:13  [INFO] step 1400; step-time 0.28s; lr 1.31e-04; [belief] loss 142.44; ppl 1.00; acc 97.22 [resp] loss 123.10; ppl 1.00; acc 70.30 \n",
            "05/30/2022 12:48:42  [INFO] step 1500; step-time 0.28s; lr 9.56e-05; [belief] loss 138.37; ppl 1.00; acc 97.24 [resp] loss 119.05; ppl 1.00; acc 70.92 \n",
            "05/30/2022 12:49:12  [INFO] step 1600; step-time 0.30s; lr 6.03e-05; [belief] loss 136.50; ppl 1.00; acc 97.42 [resp] loss 119.56; ppl 1.00; acc 70.54 \n",
            "05/30/2022 12:49:42  [INFO] step 1700; step-time 0.30s; lr 2.51e-05; [belief] loss 137.55; ppl 1.00; acc 97.57 [resp] loss 120.25; ppl 1.00; acc 70.69 \n",
            "05/30/2022 12:50:00  [INFO] done 1/1 epoch\n",
            "Validaction: 100%|████████████████████████████| 296/296 [00:21<00:00, 13.98it/s]\n",
            "05/30/2022 12:50:24  [INFO] [Validation] [belief] loss 347.46; ppl 1.00; acc 98.31 [resp] loss 314.31; ppl 1.00; acc 73.19 \n"
          ]
        }
      ],
      "source": [
        "#Training\n",
        "\n",
        "!python MTTOD/main.py -version $VERSION -run_type train -model_dir $MODEL_DIR -batch_size=32 -epochs=1"
      ]
    },
    {
      "cell_type": "code",
      "execution_count": null,
      "metadata": {
        "id": "2HASTtZoU2Gp",
        "outputId": "f317e4c8-6c07-4087-aae4-237d1d62d584"
      },
      "outputs": [
        {
          "name": "stdout",
          "output_type": "stream",
          "text": [
            "05/30/2022 13:36:27  [INFO] Device: cuda (the number of GPUs: 1)\n",
            "05/30/2022 13:36:27  [INFO] Set random seed to 42\n",
            "05/30/2022 13:36:30  [INFO] Load encoded data from data/MultiWOZ_2.1/processed/encoded_data.pkl\n",
            "05/30/2022 13:36:32  [INFO] Load model from ./MTTOD/models/ckpt-epoch1\n",
            "Prediction: 100%|█████████████████████████████| 250/250 [24:36<00:00,  5.91s/it]\n",
            "05/30/2022 14:01:27  [INFO] match: 74.70; success: 67.10; bleu: 13.98; score: 84.88\n"
          ]
        }
      ],
      "source": [
        "#Evaluation\n",
        "\n",
        "!python MTTOD/main.py -run_type predict -ckpt $CHECKPOINT -output $MODEL_OUTPUT -batch_size $BATCH_SIZE"
      ]
    }
  ],
  "metadata": {
    "accelerator": "GPU",
    "colab": {
      "collapsed_sections": [],
      "name": "ruMTTOD.ipynb",
      "provenance": []
    },
    "kernelspec": {
      "display_name": "Python 3 (ipykernel)",
      "language": "python",
      "name": "python3"
    },
    "language_info": {
      "codemirror_mode": {
        "name": "ipython",
        "version": 3
      },
      "file_extension": ".py",
      "mimetype": "text/x-python",
      "name": "python",
      "nbconvert_exporter": "python",
      "pygments_lexer": "ipython3",
      "version": "3.7.12"
    }
  },
  "nbformat": 4,
  "nbformat_minor": 0
}